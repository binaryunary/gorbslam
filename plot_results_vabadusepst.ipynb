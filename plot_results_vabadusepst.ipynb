{
 "cells": [
  {
   "cell_type": "code",
   "execution_count": null,
   "metadata": {},
   "outputs": [],
   "source": [
    "import numpy as np\n",
    "import plotly.graph_objects as go\n",
    "\n",
    "from orbslam_processor import ORBSLAMResults, ORBSLAMProcessor\n",
    "from plotting_utils import create_scattermapbox, create_map_fig\n",
    "from os import path\n",
    "\n",
    "TRAJECTORY_NAME = 'vabadusepst'\n",
    "# TRAJECTORY_NAME = 'vabadusepst_self'\n",
    "# TRAJECTORY_NAME = 'oldtown'\n",
    "\n",
    "processor = ORBSLAMProcessor(path.join('~/orbslam-out', TRAJECTORY_NAME))\n"
   ]
  },
  {
   "cell_type": "code",
   "execution_count": null,
   "metadata": {},
   "outputs": [],
   "source": [
    "processor.initialize_model()"
   ]
  },
  {
   "cell_type": "code",
   "execution_count": null,
   "metadata": {},
   "outputs": [],
   "source": [
    "processor.fit_trajectories()\n"
   ]
  },
  {
   "cell_type": "code",
   "execution_count": null,
   "metadata": {},
   "outputs": [],
   "source": [
    "fig_2d = processor.create_2d_plot_utm()\n",
    "fig_2d.show()"
   ]
  },
  {
   "cell_type": "code",
   "execution_count": null,
   "metadata": {},
   "outputs": [],
   "source": [
    "fig_slam = processor.create_2d_plot_slam()\n",
    "fig_slam.show()"
   ]
  }
 ],
 "metadata": {
  "kernelspec": {
   "display_name": "gorbslam",
   "language": "python",
   "name": "python3"
  },
  "language_info": {
   "codemirror_mode": {
    "name": "ipython",
    "version": 3
   },
   "file_extension": ".py",
   "mimetype": "text/x-python",
   "name": "python",
   "nbconvert_exporter": "python",
   "pygments_lexer": "ipython3",
   "version": "3.10.9"
  },
  "orig_nbformat": 4,
  "vscode": {
   "interpreter": {
    "hash": "9deac56a6ce25ddb3caf237126d7fb18f56d066a0348a9df40528b46bb99d284"
   }
  }
 },
 "nbformat": 4,
 "nbformat_minor": 2
}
