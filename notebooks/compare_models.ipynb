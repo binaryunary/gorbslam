{
 "cells": [
  {
   "cell_type": "code",
   "execution_count": 1,
   "metadata": {},
   "outputs": [
    {
     "name": "stdout",
     "output_type": "stream",
     "text": [
      "The autoreload extension is already loaded. To reload it, use:\n",
      "  %reload_ext autoreload\n"
     ]
    },
    {
     "name": "stderr",
     "output_type": "stream",
     "text": [
      "/Users/erik/miniconda3/envs/gorbslam/lib/python3.10/site-packages/tensorflow_addons/utils/tfa_eol_msg.py:23: UserWarning: \n",
      "\n",
      "TensorFlow Addons (TFA) has ended development and introduction of new features.\n",
      "TFA has entered a minimal maintenance and release mode until a planned end of life in May 2024.\n",
      "Please modify downstream libraries to take dependencies from other repositories in our TensorFlow community (e.g. Keras, Keras-CV, and Keras-NLP). \n",
      "\n",
      "For more information see: https://github.com/tensorflow/addons/issues/2807 \n",
      "\n",
      "  warnings.warn(\n"
     ]
    },
    {
     "name": "stdout",
     "output_type": "stream",
     "text": [
      "Processing seq_01 with FCNN\n",
      "16/16 [==============================] - 0s 791us/step\n",
      "88/88 [==============================] - 0s 532us/step\n"
     ]
    },
    {
     "name": "stderr",
     "output_type": "stream",
     "text": [
      "2023-05-08 19:40:04.681129: W tensorflow/tsl/platform/profile_utils/cpu_utils.cc:128] Failed to get CPU frequency: 0 Hz\n"
     ]
    },
    {
     "name": "stdout",
     "output_type": "stream",
     "text": [
      "Processing seq_01 with GBR\n",
      "Processing seq_01 with RFR\n",
      "Processing seq_01 with SVR\n"
     ]
    },
    {
     "name": "stderr",
     "output_type": "stream",
     "text": [
      "[Parallel(n_jobs=1)]: Using backend SequentialBackend with 1 concurrent workers.\n",
      "[Parallel(n_jobs=1)]: Done  10 out of  10 | elapsed:    0.0s finished\n",
      "[Parallel(n_jobs=1)]: Using backend SequentialBackend with 1 concurrent workers.\n",
      "[Parallel(n_jobs=1)]: Done  10 out of  10 | elapsed:    0.0s finished\n",
      "[Parallel(n_jobs=1)]: Using backend SequentialBackend with 1 concurrent workers.\n",
      "[Parallel(n_jobs=1)]: Done  10 out of  10 | elapsed:    0.0s finished\n",
      "[Parallel(n_jobs=1)]: Using backend SequentialBackend with 1 concurrent workers.\n",
      "[Parallel(n_jobs=1)]: Done  10 out of  10 | elapsed:    0.0s finished\n",
      "[Parallel(n_jobs=1)]: Using backend SequentialBackend with 1 concurrent workers.\n",
      "[Parallel(n_jobs=1)]: Done  10 out of  10 | elapsed:    0.0s finished\n",
      "[Parallel(n_jobs=1)]: Using backend SequentialBackend with 1 concurrent workers.\n",
      "[Parallel(n_jobs=1)]: Done  10 out of  10 | elapsed:    0.0s finished\n"
     ]
    },
    {
     "name": "stdout",
     "output_type": "stream",
     "text": [
      "Processing seq_01 with UMEYAMA\n",
      "Processing seq_02 with FCNN\n",
      "45/45 [==============================] - 0s 543us/step\n",
      "404/404 [==============================] - 0s 448us/step\n",
      "15/15 [==============================] - 0s 566us/step\n",
      "132/132 [==============================] - 0s 472us/step\n",
      "28/28 [==============================] - 0s 520us/step\n",
      "Processing seq_02 with GBR\n",
      "Processing seq_02 with RFR\n"
     ]
    },
    {
     "name": "stderr",
     "output_type": "stream",
     "text": [
      "[Parallel(n_jobs=1)]: Using backend SequentialBackend with 1 concurrent workers.\n",
      "[Parallel(n_jobs=1)]: Done  10 out of  10 | elapsed:    0.0s finished\n",
      "[Parallel(n_jobs=1)]: Using backend SequentialBackend with 1 concurrent workers.\n",
      "[Parallel(n_jobs=1)]: Done  10 out of  10 | elapsed:    0.0s finished\n",
      "[Parallel(n_jobs=1)]: Using backend SequentialBackend with 1 concurrent workers.\n",
      "[Parallel(n_jobs=1)]: Done  10 out of  10 | elapsed:    0.0s finished\n",
      "[Parallel(n_jobs=1)]: Using backend SequentialBackend with 1 concurrent workers.\n",
      "[Parallel(n_jobs=1)]: Done  10 out of  10 | elapsed:    0.0s finished\n",
      "[Parallel(n_jobs=1)]: Using backend SequentialBackend with 1 concurrent workers.\n",
      "[Parallel(n_jobs=1)]: Done  10 out of  10 | elapsed:    0.0s finished\n",
      "[Parallel(n_jobs=1)]: Using backend SequentialBackend with 1 concurrent workers.\n",
      "[Parallel(n_jobs=1)]: Done  10 out of  10 | elapsed:    0.0s finished\n",
      "[Parallel(n_jobs=1)]: Using backend SequentialBackend with 1 concurrent workers.\n",
      "[Parallel(n_jobs=1)]: Done  10 out of  10 | elapsed:    0.0s finished\n",
      "[Parallel(n_jobs=1)]: Using backend SequentialBackend with 1 concurrent workers.\n",
      "[Parallel(n_jobs=1)]: Done  10 out of  10 | elapsed:    0.0s finished\n",
      "[Parallel(n_jobs=1)]: Using backend SequentialBackend with 1 concurrent workers.\n",
      "[Parallel(n_jobs=1)]: Done  10 out of  10 | elapsed:    0.0s finished\n",
      "[Parallel(n_jobs=1)]: Using backend SequentialBackend with 1 concurrent workers.\n",
      "[Parallel(n_jobs=1)]: Done  10 out of  10 | elapsed:    0.0s finished\n",
      "[Parallel(n_jobs=1)]: Using backend SequentialBackend with 1 concurrent workers.\n",
      "[Parallel(n_jobs=1)]: Done  10 out of  10 | elapsed:    0.0s finished\n",
      "[Parallel(n_jobs=1)]: Using backend SequentialBackend with 1 concurrent workers.\n",
      "[Parallel(n_jobs=1)]: Done  10 out of  10 | elapsed:    0.0s finished\n",
      "[Parallel(n_jobs=1)]: Using backend SequentialBackend with 1 concurrent workers.\n",
      "[Parallel(n_jobs=1)]: Done  10 out of  10 | elapsed:    0.0s finished\n",
      "[Parallel(n_jobs=1)]: Using backend SequentialBackend with 1 concurrent workers.\n",
      "[Parallel(n_jobs=1)]: Done  10 out of  10 | elapsed:    0.0s finished\n",
      "[Parallel(n_jobs=1)]: Using backend SequentialBackend with 1 concurrent workers.\n",
      "[Parallel(n_jobs=1)]: Done  10 out of  10 | elapsed:    0.0s finished\n"
     ]
    },
    {
     "name": "stdout",
     "output_type": "stream",
     "text": [
      "Processing seq_02 with SVR\n",
      "Processing seq_02 with UMEYAMA\n",
      "Processing seq_03 with FCNN\n",
      "38/38 [==============================] - 0s 530us/step\n",
      "287/287 [==============================] - 0s 482us/step\n",
      "23/23 [==============================] - 0s 505us/step\n",
      "131/131 [==============================] - 0s 477us/step\n",
      "Processing seq_03 with GBR\n",
      "Processing seq_03 with RFR\n"
     ]
    },
    {
     "name": "stderr",
     "output_type": "stream",
     "text": [
      "[Parallel(n_jobs=1)]: Using backend SequentialBackend with 1 concurrent workers.\n",
      "[Parallel(n_jobs=1)]: Done  10 out of  10 | elapsed:    0.0s finished\n",
      "[Parallel(n_jobs=1)]: Using backend SequentialBackend with 1 concurrent workers.\n",
      "[Parallel(n_jobs=1)]: Done  10 out of  10 | elapsed:    0.0s finished\n",
      "[Parallel(n_jobs=1)]: Using backend SequentialBackend with 1 concurrent workers.\n",
      "[Parallel(n_jobs=1)]: Done  10 out of  10 | elapsed:    0.0s finished\n",
      "[Parallel(n_jobs=1)]: Using backend SequentialBackend with 1 concurrent workers.\n",
      "[Parallel(n_jobs=1)]: Done  10 out of  10 | elapsed:    0.0s finished\n",
      "[Parallel(n_jobs=1)]: Using backend SequentialBackend with 1 concurrent workers.\n",
      "[Parallel(n_jobs=1)]: Done  10 out of  10 | elapsed:    0.0s finished\n",
      "[Parallel(n_jobs=1)]: Using backend SequentialBackend with 1 concurrent workers.\n",
      "[Parallel(n_jobs=1)]: Done  10 out of  10 | elapsed:    0.0s finished\n",
      "[Parallel(n_jobs=1)]: Using backend SequentialBackend with 1 concurrent workers.\n",
      "[Parallel(n_jobs=1)]: Done  10 out of  10 | elapsed:    0.0s finished\n",
      "[Parallel(n_jobs=1)]: Using backend SequentialBackend with 1 concurrent workers.\n",
      "[Parallel(n_jobs=1)]: Done  10 out of  10 | elapsed:    0.0s finished\n",
      "[Parallel(n_jobs=1)]: Using backend SequentialBackend with 1 concurrent workers.\n",
      "[Parallel(n_jobs=1)]: Done  10 out of  10 | elapsed:    0.0s finished\n",
      "[Parallel(n_jobs=1)]: Using backend SequentialBackend with 1 concurrent workers.\n",
      "[Parallel(n_jobs=1)]: Done  10 out of  10 | elapsed:    0.0s finished\n",
      "[Parallel(n_jobs=1)]: Using backend SequentialBackend with 1 concurrent workers.\n",
      "[Parallel(n_jobs=1)]: Done  10 out of  10 | elapsed:    0.0s finished\n",
      "[Parallel(n_jobs=1)]: Using backend SequentialBackend with 1 concurrent workers.\n",
      "[Parallel(n_jobs=1)]: Done  10 out of  10 | elapsed:    0.0s finished\n"
     ]
    },
    {
     "name": "stdout",
     "output_type": "stream",
     "text": [
      "Processing seq_03 with SVR\n",
      "Processing seq_03 with UMEYAMA\n"
     ]
    }
   ],
   "source": [
    "%run setup_path.py\n",
    "%load_ext autoreload\n",
    "%autoreload 2\n",
    "\n",
    "import pandas as pd\n",
    "\n",
    "from os import path\n",
    "from gorbslam.orbslam_processor import ModelType, ORBSLAMProcessor\n",
    "from evo.core.metrics import StatisticsType\n",
    "\n",
    "FIGURES_ROOT = \"figures\"\n",
    "\n",
    "sequences = [\n",
    "    'seq_01',\n",
    "    'seq_02',\n",
    "    'seq_03',\n",
    "]\n",
    "\n",
    "model_types = [\n",
    "    ModelType.FCNN,\n",
    "    ModelType.GBR,\n",
    "    ModelType.RFR,\n",
    "    ModelType.SVR,\n",
    "    ModelType.UMEYAMA,\n",
    "]\n",
    "\n",
    "MODEL_COLORS = {\n",
    "    ModelType.FCNN: '#636EFA',\n",
    "    ModelType.GBR: '#EF553B',\n",
    "    ModelType.RFR: '#00CC96',\n",
    "    ModelType.SVR: '#AB63FA',\n",
    "    ModelType.UMEYAMA: '#FFA15A',\n",
    "    \n",
    "}\n",
    "\n",
    "processors: dict[tuple[str, str], ORBSLAMProcessor] = {}\n",
    "for sequence in sequences:\n",
    "    for model_type in model_types:\n",
    "        print(f\"Processing {sequence} with {model_type.name}\")\n",
    "        processors[(sequence, model_type)] = ORBSLAMProcessor(path.join('..', 'data','sequences', sequence), model_type)\n",
    "        processors[(sequence, model_type)].initialize_model()\n",
    "        processors[(sequence, model_type)].fit_trajectories()\n",
    "        processors[(sequence, model_type)].save_trajectories()\n",
    "\n"
   ]
  },
  {
   "cell_type": "code",
   "execution_count": 2,
   "metadata": {},
   "outputs": [
    {
     "name": "stdout",
     "output_type": "stream",
     "text": [
      "Calculating APE for seq_01 with FCNN\n",
      "Calculating APE for seq_01 with GBR\n",
      "Calculating APE for seq_01 with RFR\n",
      "Calculating APE for seq_01 with SVR\n",
      "Calculating APE for seq_01 with UMEYAMA\n",
      "Calculating APE for seq_02 with FCNN\n"
     ]
    },
    {
     "name": "stderr",
     "output_type": "stream",
     "text": [
      "/var/folders/x5/ssd1ylz90_39qqrwvg391k3w0000gp/T/ipykernel_11770/539129740.py:19: FutureWarning: The frame.append method is deprecated and will be removed from pandas in a future version. Use pandas.concat instead.\n",
      "  df = df.append(\n",
      "/var/folders/x5/ssd1ylz90_39qqrwvg391k3w0000gp/T/ipykernel_11770/539129740.py:19: FutureWarning: The frame.append method is deprecated and will be removed from pandas in a future version. Use pandas.concat instead.\n",
      "  df = df.append(\n",
      "/var/folders/x5/ssd1ylz90_39qqrwvg391k3w0000gp/T/ipykernel_11770/539129740.py:19: FutureWarning: The frame.append method is deprecated and will be removed from pandas in a future version. Use pandas.concat instead.\n",
      "  df = df.append(\n",
      "/var/folders/x5/ssd1ylz90_39qqrwvg391k3w0000gp/T/ipykernel_11770/539129740.py:19: FutureWarning: The frame.append method is deprecated and will be removed from pandas in a future version. Use pandas.concat instead.\n",
      "  df = df.append(\n",
      "/var/folders/x5/ssd1ylz90_39qqrwvg391k3w0000gp/T/ipykernel_11770/539129740.py:19: FutureWarning: The frame.append method is deprecated and will be removed from pandas in a future version. Use pandas.concat instead.\n",
      "  df = df.append(\n",
      "/var/folders/x5/ssd1ylz90_39qqrwvg391k3w0000gp/T/ipykernel_11770/539129740.py:19: FutureWarning: The frame.append method is deprecated and will be removed from pandas in a future version. Use pandas.concat instead.\n",
      "  df = df.append(\n",
      "/var/folders/x5/ssd1ylz90_39qqrwvg391k3w0000gp/T/ipykernel_11770/539129740.py:19: FutureWarning: The frame.append method is deprecated and will be removed from pandas in a future version. Use pandas.concat instead.\n",
      "  df = df.append(\n",
      "/var/folders/x5/ssd1ylz90_39qqrwvg391k3w0000gp/T/ipykernel_11770/539129740.py:19: FutureWarning: The frame.append method is deprecated and will be removed from pandas in a future version. Use pandas.concat instead.\n",
      "  df = df.append(\n",
      "/var/folders/x5/ssd1ylz90_39qqrwvg391k3w0000gp/T/ipykernel_11770/539129740.py:19: FutureWarning: The frame.append method is deprecated and will be removed from pandas in a future version. Use pandas.concat instead.\n",
      "  df = df.append(\n",
      "/var/folders/x5/ssd1ylz90_39qqrwvg391k3w0000gp/T/ipykernel_11770/539129740.py:19: FutureWarning: The frame.append method is deprecated and will be removed from pandas in a future version. Use pandas.concat instead.\n",
      "  df = df.append(\n",
      "/var/folders/x5/ssd1ylz90_39qqrwvg391k3w0000gp/T/ipykernel_11770/539129740.py:19: FutureWarning: The frame.append method is deprecated and will be removed from pandas in a future version. Use pandas.concat instead.\n",
      "  df = df.append(\n",
      "/var/folders/x5/ssd1ylz90_39qqrwvg391k3w0000gp/T/ipykernel_11770/539129740.py:19: FutureWarning: The frame.append method is deprecated and will be removed from pandas in a future version. Use pandas.concat instead.\n",
      "  df = df.append(\n",
      "/var/folders/x5/ssd1ylz90_39qqrwvg391k3w0000gp/T/ipykernel_11770/539129740.py:19: FutureWarning: The frame.append method is deprecated and will be removed from pandas in a future version. Use pandas.concat instead.\n",
      "  df = df.append(\n",
      "/var/folders/x5/ssd1ylz90_39qqrwvg391k3w0000gp/T/ipykernel_11770/539129740.py:19: FutureWarning: The frame.append method is deprecated and will be removed from pandas in a future version. Use pandas.concat instead.\n",
      "  df = df.append(\n",
      "/var/folders/x5/ssd1ylz90_39qqrwvg391k3w0000gp/T/ipykernel_11770/539129740.py:19: FutureWarning: The frame.append method is deprecated and will be removed from pandas in a future version. Use pandas.concat instead.\n",
      "  df = df.append(\n",
      "/var/folders/x5/ssd1ylz90_39qqrwvg391k3w0000gp/T/ipykernel_11770/539129740.py:19: FutureWarning: The frame.append method is deprecated and will be removed from pandas in a future version. Use pandas.concat instead.\n",
      "  df = df.append(\n",
      "/var/folders/x5/ssd1ylz90_39qqrwvg391k3w0000gp/T/ipykernel_11770/539129740.py:19: FutureWarning: The frame.append method is deprecated and will be removed from pandas in a future version. Use pandas.concat instead.\n",
      "  df = df.append(\n",
      "/var/folders/x5/ssd1ylz90_39qqrwvg391k3w0000gp/T/ipykernel_11770/539129740.py:19: FutureWarning: The frame.append method is deprecated and will be removed from pandas in a future version. Use pandas.concat instead.\n",
      "  df = df.append(\n",
      "/var/folders/x5/ssd1ylz90_39qqrwvg391k3w0000gp/T/ipykernel_11770/539129740.py:19: FutureWarning: The frame.append method is deprecated and will be removed from pandas in a future version. Use pandas.concat instead.\n",
      "  df = df.append(\n",
      "/var/folders/x5/ssd1ylz90_39qqrwvg391k3w0000gp/T/ipykernel_11770/539129740.py:19: FutureWarning: The frame.append method is deprecated and will be removed from pandas in a future version. Use pandas.concat instead.\n",
      "  df = df.append(\n"
     ]
    },
    {
     "name": "stdout",
     "output_type": "stream",
     "text": [
      "Calculating APE for seq_02 with GBR\n",
      "Calculating APE for seq_02 with RFR\n"
     ]
    },
    {
     "name": "stderr",
     "output_type": "stream",
     "text": [
      "/var/folders/x5/ssd1ylz90_39qqrwvg391k3w0000gp/T/ipykernel_11770/539129740.py:19: FutureWarning: The frame.append method is deprecated and will be removed from pandas in a future version. Use pandas.concat instead.\n",
      "  df = df.append(\n",
      "/var/folders/x5/ssd1ylz90_39qqrwvg391k3w0000gp/T/ipykernel_11770/539129740.py:19: FutureWarning: The frame.append method is deprecated and will be removed from pandas in a future version. Use pandas.concat instead.\n",
      "  df = df.append(\n",
      "/var/folders/x5/ssd1ylz90_39qqrwvg391k3w0000gp/T/ipykernel_11770/539129740.py:19: FutureWarning: The frame.append method is deprecated and will be removed from pandas in a future version. Use pandas.concat instead.\n",
      "  df = df.append(\n",
      "/var/folders/x5/ssd1ylz90_39qqrwvg391k3w0000gp/T/ipykernel_11770/539129740.py:19: FutureWarning: The frame.append method is deprecated and will be removed from pandas in a future version. Use pandas.concat instead.\n",
      "  df = df.append(\n",
      "/var/folders/x5/ssd1ylz90_39qqrwvg391k3w0000gp/T/ipykernel_11770/539129740.py:19: FutureWarning: The frame.append method is deprecated and will be removed from pandas in a future version. Use pandas.concat instead.\n",
      "  df = df.append(\n",
      "/var/folders/x5/ssd1ylz90_39qqrwvg391k3w0000gp/T/ipykernel_11770/539129740.py:19: FutureWarning: The frame.append method is deprecated and will be removed from pandas in a future version. Use pandas.concat instead.\n",
      "  df = df.append(\n",
      "/var/folders/x5/ssd1ylz90_39qqrwvg391k3w0000gp/T/ipykernel_11770/539129740.py:19: FutureWarning: The frame.append method is deprecated and will be removed from pandas in a future version. Use pandas.concat instead.\n",
      "  df = df.append(\n",
      "/var/folders/x5/ssd1ylz90_39qqrwvg391k3w0000gp/T/ipykernel_11770/539129740.py:19: FutureWarning: The frame.append method is deprecated and will be removed from pandas in a future version. Use pandas.concat instead.\n",
      "  df = df.append(\n",
      "/var/folders/x5/ssd1ylz90_39qqrwvg391k3w0000gp/T/ipykernel_11770/539129740.py:19: FutureWarning: The frame.append method is deprecated and will be removed from pandas in a future version. Use pandas.concat instead.\n",
      "  df = df.append(\n",
      "/var/folders/x5/ssd1ylz90_39qqrwvg391k3w0000gp/T/ipykernel_11770/539129740.py:19: FutureWarning: The frame.append method is deprecated and will be removed from pandas in a future version. Use pandas.concat instead.\n",
      "  df = df.append(\n"
     ]
    },
    {
     "name": "stdout",
     "output_type": "stream",
     "text": [
      "Calculating APE for seq_02 with SVR\n",
      "Calculating APE for seq_02 with UMEYAMA\n"
     ]
    },
    {
     "name": "stderr",
     "output_type": "stream",
     "text": [
      "/var/folders/x5/ssd1ylz90_39qqrwvg391k3w0000gp/T/ipykernel_11770/539129740.py:19: FutureWarning: The frame.append method is deprecated and will be removed from pandas in a future version. Use pandas.concat instead.\n",
      "  df = df.append(\n",
      "/var/folders/x5/ssd1ylz90_39qqrwvg391k3w0000gp/T/ipykernel_11770/539129740.py:19: FutureWarning: The frame.append method is deprecated and will be removed from pandas in a future version. Use pandas.concat instead.\n",
      "  df = df.append(\n",
      "/var/folders/x5/ssd1ylz90_39qqrwvg391k3w0000gp/T/ipykernel_11770/539129740.py:19: FutureWarning: The frame.append method is deprecated and will be removed from pandas in a future version. Use pandas.concat instead.\n",
      "  df = df.append(\n",
      "/var/folders/x5/ssd1ylz90_39qqrwvg391k3w0000gp/T/ipykernel_11770/539129740.py:19: FutureWarning: The frame.append method is deprecated and will be removed from pandas in a future version. Use pandas.concat instead.\n",
      "  df = df.append(\n",
      "/var/folders/x5/ssd1ylz90_39qqrwvg391k3w0000gp/T/ipykernel_11770/539129740.py:19: FutureWarning: The frame.append method is deprecated and will be removed from pandas in a future version. Use pandas.concat instead.\n",
      "  df = df.append(\n",
      "/var/folders/x5/ssd1ylz90_39qqrwvg391k3w0000gp/T/ipykernel_11770/539129740.py:19: FutureWarning: The frame.append method is deprecated and will be removed from pandas in a future version. Use pandas.concat instead.\n",
      "  df = df.append(\n",
      "/var/folders/x5/ssd1ylz90_39qqrwvg391k3w0000gp/T/ipykernel_11770/539129740.py:19: FutureWarning: The frame.append method is deprecated and will be removed from pandas in a future version. Use pandas.concat instead.\n",
      "  df = df.append(\n",
      "/var/folders/x5/ssd1ylz90_39qqrwvg391k3w0000gp/T/ipykernel_11770/539129740.py:19: FutureWarning: The frame.append method is deprecated and will be removed from pandas in a future version. Use pandas.concat instead.\n",
      "  df = df.append(\n",
      "/var/folders/x5/ssd1ylz90_39qqrwvg391k3w0000gp/T/ipykernel_11770/539129740.py:19: FutureWarning: The frame.append method is deprecated and will be removed from pandas in a future version. Use pandas.concat instead.\n",
      "  df = df.append(\n"
     ]
    },
    {
     "name": "stdout",
     "output_type": "stream",
     "text": [
      "Calculating APE for seq_03 with FCNN\n",
      "Calculating APE for seq_03 with GBR\n"
     ]
    },
    {
     "name": "stderr",
     "output_type": "stream",
     "text": [
      "/var/folders/x5/ssd1ylz90_39qqrwvg391k3w0000gp/T/ipykernel_11770/539129740.py:19: FutureWarning: The frame.append method is deprecated and will be removed from pandas in a future version. Use pandas.concat instead.\n",
      "  df = df.append(\n",
      "/var/folders/x5/ssd1ylz90_39qqrwvg391k3w0000gp/T/ipykernel_11770/539129740.py:19: FutureWarning: The frame.append method is deprecated and will be removed from pandas in a future version. Use pandas.concat instead.\n",
      "  df = df.append(\n",
      "/var/folders/x5/ssd1ylz90_39qqrwvg391k3w0000gp/T/ipykernel_11770/539129740.py:19: FutureWarning: The frame.append method is deprecated and will be removed from pandas in a future version. Use pandas.concat instead.\n",
      "  df = df.append(\n",
      "/var/folders/x5/ssd1ylz90_39qqrwvg391k3w0000gp/T/ipykernel_11770/539129740.py:19: FutureWarning: The frame.append method is deprecated and will be removed from pandas in a future version. Use pandas.concat instead.\n",
      "  df = df.append(\n",
      "/var/folders/x5/ssd1ylz90_39qqrwvg391k3w0000gp/T/ipykernel_11770/539129740.py:19: FutureWarning: The frame.append method is deprecated and will be removed from pandas in a future version. Use pandas.concat instead.\n",
      "  df = df.append(\n",
      "/var/folders/x5/ssd1ylz90_39qqrwvg391k3w0000gp/T/ipykernel_11770/539129740.py:19: FutureWarning: The frame.append method is deprecated and will be removed from pandas in a future version. Use pandas.concat instead.\n",
      "  df = df.append(\n",
      "/var/folders/x5/ssd1ylz90_39qqrwvg391k3w0000gp/T/ipykernel_11770/539129740.py:19: FutureWarning: The frame.append method is deprecated and will be removed from pandas in a future version. Use pandas.concat instead.\n",
      "  df = df.append(\n",
      "/var/folders/x5/ssd1ylz90_39qqrwvg391k3w0000gp/T/ipykernel_11770/539129740.py:19: FutureWarning: The frame.append method is deprecated and will be removed from pandas in a future version. Use pandas.concat instead.\n",
      "  df = df.append(\n"
     ]
    },
    {
     "name": "stdout",
     "output_type": "stream",
     "text": [
      "Calculating APE for seq_03 with RFR\n",
      "Calculating APE for seq_03 with SVR\n",
      "Calculating APE for seq_03 with UMEYAMA\n"
     ]
    },
    {
     "name": "stderr",
     "output_type": "stream",
     "text": [
      "/var/folders/x5/ssd1ylz90_39qqrwvg391k3w0000gp/T/ipykernel_11770/539129740.py:19: FutureWarning: The frame.append method is deprecated and will be removed from pandas in a future version. Use pandas.concat instead.\n",
      "  df = df.append(\n",
      "/var/folders/x5/ssd1ylz90_39qqrwvg391k3w0000gp/T/ipykernel_11770/539129740.py:19: FutureWarning: The frame.append method is deprecated and will be removed from pandas in a future version. Use pandas.concat instead.\n",
      "  df = df.append(\n",
      "/var/folders/x5/ssd1ylz90_39qqrwvg391k3w0000gp/T/ipykernel_11770/539129740.py:19: FutureWarning: The frame.append method is deprecated and will be removed from pandas in a future version. Use pandas.concat instead.\n",
      "  df = df.append(\n",
      "/var/folders/x5/ssd1ylz90_39qqrwvg391k3w0000gp/T/ipykernel_11770/539129740.py:19: FutureWarning: The frame.append method is deprecated and will be removed from pandas in a future version. Use pandas.concat instead.\n",
      "  df = df.append(\n",
      "/var/folders/x5/ssd1ylz90_39qqrwvg391k3w0000gp/T/ipykernel_11770/539129740.py:19: FutureWarning: The frame.append method is deprecated and will be removed from pandas in a future version. Use pandas.concat instead.\n",
      "  df = df.append(\n",
      "/var/folders/x5/ssd1ylz90_39qqrwvg391k3w0000gp/T/ipykernel_11770/539129740.py:19: FutureWarning: The frame.append method is deprecated and will be removed from pandas in a future version. Use pandas.concat instead.\n",
      "  df = df.append(\n",
      "/var/folders/x5/ssd1ylz90_39qqrwvg391k3w0000gp/T/ipykernel_11770/539129740.py:19: FutureWarning: The frame.append method is deprecated and will be removed from pandas in a future version. Use pandas.concat instead.\n",
      "  df = df.append(\n",
      "/var/folders/x5/ssd1ylz90_39qqrwvg391k3w0000gp/T/ipykernel_11770/539129740.py:19: FutureWarning: The frame.append method is deprecated and will be removed from pandas in a future version. Use pandas.concat instead.\n",
      "  df = df.append(\n"
     ]
    }
   ],
   "source": [
    "df = pd.DataFrame(\n",
    "    columns=[\n",
    "        \"trajectory\",\n",
    "        \"model\",\n",
    "        \"loc\",\n",
    "        \"min\",\n",
    "        \"max\",\n",
    "        \"mean\",\n",
    "        \"median\",\n",
    "        \"std\",\n",
    "        \"rmse\",\n",
    "        \"sse\",\n",
    "    ]\n",
    ")\n",
    "for (sequence, model_type), processor in processors.items():\n",
    "    print(f\"Calculating APE for {sequence} with {model_type.name}\")\n",
    "    ape = processor.calculate_ape_metric_all()\n",
    "    for loc, ape_error in ape.items():\n",
    "        df = df.append(\n",
    "            {\n",
    "                \"trajectory\": sequence,\n",
    "                \"model\": model_type.name,\n",
    "                \"loc\": loc,\n",
    "                \"min\": ape_error.get_statistic(StatisticsType.min),\n",
    "                \"max\": ape_error.get_statistic(StatisticsType.max),\n",
    "                \"mean\": ape_error.get_statistic(StatisticsType.mean),\n",
    "                \"median\": ape_error.get_statistic(StatisticsType.median),\n",
    "                \"std\": ape_error.get_statistic(StatisticsType.std),\n",
    "                \"rmse\": ape_error.get_statistic(StatisticsType.rmse),\n",
    "                \"sse\": ape_error.get_statistic(StatisticsType.sse),\n",
    "            },\n",
    "            ignore_index=True,\n",
    "        )\n",
    "\n",
    "df.to_csv(\"all_ape.csv\", index=False)"
   ]
  },
  {
   "cell_type": "code",
   "execution_count": 3,
   "metadata": {},
   "outputs": [
    {
     "name": "stdout",
     "output_type": "stream",
     "text": [
      "Calculating APE for seq_01 with FCNN\n",
      "Calculating APE for seq_01 with GBR\n",
      "Calculating APE for seq_01 with RFR\n",
      "Calculating APE for seq_01 with SVR\n",
      "Calculating APE for seq_01 with UMEYAMA\n",
      "Calculating APE for seq_02 with FCNN\n",
      "Calculating APE for seq_02 with GBR\n",
      "Calculating APE for seq_02 with RFR\n",
      "Calculating APE for seq_02 with SVR\n",
      "Calculating APE for seq_02 with UMEYAMA\n",
      "Calculating APE for seq_03 with FCNN\n",
      "Calculating APE for seq_03 with GBR\n",
      "Calculating APE for seq_03 with RFR\n",
      "Calculating APE for seq_03 with SVR\n",
      "Calculating APE for seq_03 with UMEYAMA\n"
     ]
    }
   ],
   "source": [
    "ape_by_model = {\n",
    "    ModelType.FCNN: [],\n",
    "    ModelType.GBR: [],\n",
    "    ModelType.RFR: [],\n",
    "    ModelType.SVR: [],\n",
    "    ModelType.UMEYAMA: [],\n",
    "}\n",
    "ape_by_seq_and_model = {\n",
    "    trajectory: {model_type: [] for model_type in model_types}\n",
    "    for trajectory in sequences\n",
    "}\n",
    "for (trajectory_name, model_type), processor in processors.items():\n",
    "    print(f\"Calculating APE for {trajectory_name} with {model_type.name}\")\n",
    "    ape = processor.calculate_ape_metric_all()\n",
    "    for loc, ape_error in ape.items():\n",
    "        ape_by_model[model_type].extend(ape_error.error)\n",
    "        ape_by_seq_and_model[trajectory_name][model_type].extend(ape_error.error)"
   ]
  },
  {
   "cell_type": "code",
   "execution_count": null,
   "metadata": {},
   "outputs": [],
   "source": [
    "import numpy as np\n",
    "import plotly.graph_objects as go\n",
    "from plotly.subplots import make_subplots\n",
    "\n",
    "fig = make_subplots(cols=1, rows=len(ape_by_model.keys()))\n",
    "\n",
    "for i, (model_type, ape) in enumerate(ape_by_model.items()):\n",
    "    fig.add_trace(\n",
    "        go.Histogram(\n",
    "            x=ape,\n",
    "            name=model_type.name,\n",
    "            xbins=dict(end=150),\n",
    "            marker_color=MODEL_COLORS[model_type],\n",
    "        ),\n",
    "        row=i + 1,\n",
    "        col=1,\n",
    "    )\n",
    "\n",
    "fig.update_layout(height=1000, width=1000, title_text=\"APE by model\")\n",
    "\n",
    "fig.show()"
   ]
  },
  {
   "cell_type": "code",
   "execution_count": 10,
   "metadata": {},
   "outputs": [
    {
     "data": {
      "text/plain": [
       "Violin({\n",
       "    'line': {'color': '#FFA15A'},\n",
       "    'meanline': {'visible': True},\n",
       "    'name': 'UMEYAMA',\n",
       "    'width': 0.7,\n",
       "    'x': [28.537701096407293, 27.88870748563488, 27.815390221868746, ...,\n",
       "          34.11249897930817, 34.10218768632835, 34.101262879322945]\n",
       "})"
      ]
     },
     "execution_count": 10,
     "metadata": {},
     "output_type": "execute_result"
    }
   ],
   "source": [
    "from turtle import width\n",
    "from matplotlib import scale\n",
    "import numpy as np\n",
    "import plotly.graph_objects as go\n",
    "from plotly.subplots import make_subplots\n",
    "\n",
    "fig = go.Figure()\n",
    "\n",
    "# Sort by mean APE\n",
    "apes = list(ape_by_model.items())\n",
    "apes.sort(key=lambda x: np.mean(x[1]), reverse=True)\n",
    "\n",
    "for model_type, ape in apes:\n",
    "    fig.add_trace(\n",
    "        go.Violin(\n",
    "            x=ape,\n",
    "            width=0.7,\n",
    "            name=model_type.name,\n",
    "            meanline_visible=True,\n",
    "            line_color=MODEL_COLORS[model_type],\n",
    "        ),\n",
    "    )\n",
    "fig.update_xaxes(title_text=\"[m]\")\n",
    "fig.update_layout(\n",
    "    title=\"APE (m) distribution by model over all sequences\",\n",
    "    showlegend=False,\n",
    "    height=800,\n",
    "    width=1400,\n",
    "    font=dict(size=20),\n",
    "    margin={\"t\": 50, \"b\": 10, \"l\": 10, \"r\": 10},\n",
    ")\n",
    "fig.write_image(path.join(FIGURES_ROOT, \"ape_dist.png\"), scale=2)\n",
    "fig.show()"
   ]
  },
  {
   "cell_type": "code",
   "execution_count": null,
   "metadata": {},
   "outputs": [],
   "source": [
    "fig = make_subplots(\n",
    "    cols=1,\n",
    "    rows=len(ape_by_seq_and_model.keys()),\n",
    "    subplot_titles=list(ape_by_seq_and_model.keys()),\n",
    "    vertical_spacing=0.05,\n",
    ")\n",
    "\n",
    "for i, (trajectory_name, ape_by_model) in enumerate(ape_by_seq_and_model.items()):\n",
    "    apes = list(ape_by_model.items())\n",
    "    apes.sort(key=lambda x: np.mean(x[1]), reverse=True)\n",
    "    for model_type, ape in apes:\n",
    "        # Sort by mean APE\n",
    "        fig.add_trace(\n",
    "            go.Violin(\n",
    "                x=ape,\n",
    "                width=0.7,\n",
    "                name=model_type.name,\n",
    "                meanline_visible=True,\n",
    "                line_color=MODEL_COLORS[model_type],\n",
    "            ),\n",
    "            row=i + 1,\n",
    "            col=1,\n",
    "        )\n",
    "\n",
    "fig.update_layout(\n",
    "    showlegend=False,\n",
    "    height=1000,\n",
    "    width=1400,\n",
    "    margin={\"t\": 50, \"b\": 10, \"l\": 10, \"r\": 10},\n",
    ")\n",
    "fig.show()"
   ]
  }
 ],
 "metadata": {
  "kernelspec": {
   "display_name": "gorbslam",
   "language": "python",
   "name": "python3"
  },
  "language_info": {
   "codemirror_mode": {
    "name": "ipython",
    "version": 3
   },
   "file_extension": ".py",
   "mimetype": "text/x-python",
   "name": "python",
   "nbconvert_exporter": "python",
   "pygments_lexer": "ipython3",
   "version": "3.10.11"
  },
  "orig_nbformat": 4,
  "vscode": {
   "interpreter": {
    "hash": "9deac56a6ce25ddb3caf237126d7fb18f56d066a0348a9df40528b46bb99d284"
   }
  }
 },
 "nbformat": 4,
 "nbformat_minor": 2
}
