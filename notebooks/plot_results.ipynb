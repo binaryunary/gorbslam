{
 "cells": [
  {
   "cell_type": "code",
   "execution_count": 171,
   "metadata": {},
   "outputs": [
    {
     "name": "stdout",
     "output_type": "stream",
     "text": [
      "The autoreload extension is already loaded. To reload it, use:\n",
      "  %reload_ext autoreload\n"
     ]
    }
   ],
   "source": [
    "%run setup_path.py\n",
    "%load_ext autoreload\n",
    "%autoreload 2\n",
    "\n",
    "from os import path\n",
    "\n",
    "from gorbslam.orbslam_processor import ModelType, ORBSLAMProcessor\n",
    "\n",
    "# TRAJECTORY_NAME = 'vabadussild'\n",
    "# TRAJECTORY_NAME = 'vabadusepst'\n",
    "# TRAJECTORY_NAME = 'oldtown'\n",
    "TRAJECTORY_NAME = 'vabadussild_novatel'\n",
    "# TRAJECTORY_NAME = 'vabadusepst_novatel'\n",
    "# TRAJECTORY_NAME = 'oldtown_novatel'\n",
    "# TRAJECTORY_NAME = 'kitti/09_30_drive_0018'\n",
    "\n",
    "model_type = ModelType.NN\n",
    "# model_type = ModelType.NN_CLR\n",
    "# model_type = ModelType.GBR\n",
    "# model_type = ModelType.SVR\n",
    "# model_type = ModelType.RFR\n",
    "# model_type = ModelType.UMEYAMA\n",
    "\n",
    "processor = ORBSLAMProcessor(path.join('~/orbslam-out', TRAJECTORY_NAME), model_type)\n"
   ]
  },
  {
   "cell_type": "code",
   "execution_count": null,
   "metadata": {},
   "outputs": [],
   "source": [
    "# processor.initialize_model(overwrite=True)\n",
    "processor.initialize_model()\n"
   ]
  },
  {
   "cell_type": "code",
   "execution_count": null,
   "metadata": {},
   "outputs": [],
   "source": [
    "processor.fit_trajectories()\n"
   ]
  },
  {
   "cell_type": "code",
   "execution_count": null,
   "metadata": {},
   "outputs": [],
   "source": [
    "processor.save_trajectories()\n"
   ]
  },
  {
   "cell_type": "code",
   "execution_count": null,
   "metadata": {},
   "outputs": [],
   "source": [
    "processor.create_ape_plot_all().show()\n"
   ]
  },
  {
   "cell_type": "code",
   "execution_count": null,
   "metadata": {},
   "outputs": [],
   "source": [
    "processor.create_ape_plot().show()\n"
   ]
  },
  {
   "cell_type": "code",
   "execution_count": null,
   "metadata": {},
   "outputs": [],
   "source": [
    "processor.create_ape_plot(0).show()\n"
   ]
  },
  {
   "cell_type": "code",
   "execution_count": null,
   "metadata": {},
   "outputs": [],
   "source": [
    "# processor.create_2d_plot_utm().show()\n"
   ]
  },
  {
   "cell_type": "code",
   "execution_count": null,
   "metadata": {},
   "outputs": [],
   "source": [
    "# processor.create_2d_plot_slam().show()\n"
   ]
  },
  {
   "cell_type": "code",
   "execution_count": null,
   "metadata": {},
   "outputs": [],
   "source": [
    "# processor.create_map_plot().show()\n"
   ]
  },
  {
   "cell_type": "code",
   "execution_count": null,
   "metadata": {},
   "outputs": [],
   "source": [
    "# processor.create_3d_plot_slam().show()\n"
   ]
  }
 ],
 "metadata": {
  "kernelspec": {
   "display_name": "gorbslam",
   "language": "python",
   "name": "python3"
  },
  "language_info": {
   "codemirror_mode": {
    "name": "ipython",
    "version": 3
   },
   "file_extension": ".py",
   "mimetype": "text/x-python",
   "name": "python",
   "nbconvert_exporter": "python",
   "pygments_lexer": "ipython3",
   "version": "3.10.9"
  },
  "orig_nbformat": 4,
  "vscode": {
   "interpreter": {
    "hash": "9deac56a6ce25ddb3caf237126d7fb18f56d066a0348a9df40528b46bb99d284"
   }
  }
 },
 "nbformat": 4,
 "nbformat_minor": 2
}
