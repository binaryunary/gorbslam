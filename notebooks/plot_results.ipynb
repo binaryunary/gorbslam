{
 "cells": [
  {
   "cell_type": "code",
   "execution_count": 236,
   "metadata": {},
   "outputs": [
    {
     "name": "stdout",
     "output_type": "stream",
     "text": [
      "The autoreload extension is already loaded. To reload it, use:\n",
      "  %reload_ext autoreload\n"
     ]
    }
   ],
   "source": [
    "%run setup_path.py\n",
    "%load_ext autoreload\n",
    "%autoreload 2\n",
    "\n",
    "from os import path\n",
    "\n",
    "from gorbslam.orbslam_processor import ModelType, ORBSLAMProcessor\n",
    "\n",
    "# TRAJECTORY_NAME = 'vabadussild'\n",
    "# TRAJECTORY_NAME = 'vabadusepst'\n",
    "# TRAJECTORY_NAME = 'oldtown'\n",
    "# TRAJECTORY_NAME = 'vabadussild_novatel'\n",
    "# TRAJECTORY_NAME = 'vabadusepst_novatel'\n",
    "TRAJECTORY_NAME = 'oldtown_novatel'\n",
    "\n",
    "# model_type = ModelType.NN\n",
    "model_type = ModelType.NN_CLR\n",
    "# model_type = ModelType.GBR\n",
    "# model_type = ModelType.SVR\n",
    "# model_type = ModelType.RFR\n",
    "# model_type = ModelType.UMEYAMA\n",
    "\n",
    "processor = ORBSLAMProcessor(path.join('~/orbslam-out', TRAJECTORY_NAME), model_type)\n"
   ]
  },
  {
   "cell_type": "code",
   "execution_count": 237,
   "metadata": {},
   "outputs": [
    {
     "name": "stdout",
     "output_type": "stream",
     "text": [
      "Trial 35 Complete [00h 00m 02s]\n",
      "val_loss: 0.07906805723905563\n",
      "\n",
      "Best val_loss So Far: 0.0056214528158307076\n",
      "Total elapsed time: 00h 00m 23s\n",
      "\n",
      "Search: Running Trial #36\n",
      "\n",
      "Value             |Best Value So Far |Hyperparameter\n",
      "353               |890               |il_units\n",
      "tanh              |relu              |il_activation\n",
      "1                 |4                 |num_hidden_layers\n",
      "0.3               |0.1               |huber_delta\n",
      "205               |542               |hl_0_units\n",
      "relu              |relu              |hl_0_activation\n",
      "118               |938               |hl_1_units\n",
      "tanh              |relu              |hl_1_activation\n",
      "256               |32                |batch_size\n",
      "39                |377               |hl_2_units\n",
      "relu              |relu              |hl_2_activation\n",
      "19                |680               |hl_3_units\n",
      "tanh              |tanh              |hl_3_activation\n",
      "753               |88                |hl_4_units\n",
      "tanh              |relu              |hl_4_activation\n",
      "3                 |3                 |tuner/epochs\n",
      "0                 |0                 |tuner/initial_epoch\n",
      "4                 |4                 |tuner/bracket\n",
      "0                 |0                 |tuner/round\n",
      "\n"
     ]
    }
   ],
   "source": [
    "# processor.initialize_model(overwrite=True)\n",
    "processor.initialize_model()\n"
   ]
  },
  {
   "cell_type": "code",
   "execution_count": null,
   "metadata": {},
   "outputs": [],
   "source": [
    "processor.fit_trajectories()\n"
   ]
  },
  {
   "cell_type": "code",
   "execution_count": null,
   "metadata": {},
   "outputs": [],
   "source": [
    "processor.save_trajectories()\n"
   ]
  },
  {
   "cell_type": "code",
   "execution_count": null,
   "metadata": {},
   "outputs": [],
   "source": [
    "ape_fig = processor.create_ape_plot_all().show()\n"
   ]
  },
  {
   "cell_type": "code",
   "execution_count": null,
   "metadata": {},
   "outputs": [],
   "source": [
    "processor.create_ape_plot().show()\n"
   ]
  },
  {
   "cell_type": "code",
   "execution_count": null,
   "metadata": {},
   "outputs": [],
   "source": [
    "# fig_2d = processor.create_2d_plot_utm()\n",
    "# fig_2d.show()\n"
   ]
  },
  {
   "cell_type": "code",
   "execution_count": null,
   "metadata": {},
   "outputs": [],
   "source": [
    "# fig_slam = processor.create_2d_plot_slam()\n",
    "# fig_slam.show()\n"
   ]
  },
  {
   "cell_type": "code",
   "execution_count": null,
   "metadata": {},
   "outputs": [],
   "source": [
    "# fig_map = processor.create_map_plot()\n",
    "# fig_map.show()\n"
   ]
  }
 ],
 "metadata": {
  "kernelspec": {
   "display_name": "gorbslam",
   "language": "python",
   "name": "python3"
  },
  "language_info": {
   "codemirror_mode": {
    "name": "ipython",
    "version": 3
   },
   "file_extension": ".py",
   "mimetype": "text/x-python",
   "name": "python",
   "nbconvert_exporter": "python",
   "pygments_lexer": "ipython3",
   "version": "3.10.9"
  },
  "orig_nbformat": 4,
  "vscode": {
   "interpreter": {
    "hash": "9deac56a6ce25ddb3caf237126d7fb18f56d066a0348a9df40528b46bb99d284"
   }
  }
 },
 "nbformat": 4,
 "nbformat_minor": 2
}
